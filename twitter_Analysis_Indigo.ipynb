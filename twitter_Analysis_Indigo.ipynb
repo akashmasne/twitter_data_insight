{
 "cells": [
  {
   "cell_type": "markdown",
   "metadata": {},
   "source": [
    "# Analysing tweet sentiments on customer account"
   ]
  },
  {
   "cell_type": "code",
   "execution_count": 97,
   "metadata": {},
   "outputs": [],
   "source": [
    "import tweepy\n",
    "from textblob import TextBlob\n",
    "import pandas as pd\n",
    "import re\n",
    "import matplotlib.pyplot as plt\n",
    "import seaborn as sns\n",
    "sns.set_style('whitegrid')\n",
    "%matplotlib inline\n",
    "from datetime import datetime\n",
    "\n",
    "import numpy as np\n",
    "import warnings\n",
    "warnings.filterwarnings('ignore')\n",
    "\n",
    "# References mentioned in last cell"
   ]
  },
  {
   "cell_type": "code",
   "execution_count": 141,
   "metadata": {},
   "outputs": [],
   "source": [
    "# Step 1 - Authenticate\n",
    "API_KEY= 'YOUR_API_KEY'\n",
    "API_SECRET= 'YOUR_API_SECRET'\n",
    "\n",
    "auth = tweepy.AppAuthHandler(API_KEY, API_SECRET)\n",
    "\n",
    "# 6-9 days of Tweets\n",
    "api = tweepy.API(auth)\n",
    "\n",
    "#Step 3 - Retrieve Tweets\n",
    "# searching any tweet containing “@Indigo”\n",
    "\n",
    "searchpattern='@Indigo'\n",
    "\n",
    "try:\n",
    "    public_tweets=api.search(searchpattern,count=100,lang='en',result_type='mixed',)  #until='2020-06-22'\n",
    "except Exception as e:\n",
    "    print(e)\n"
   ]
  },
  {
   "cell_type": "code",
   "execution_count": 142,
   "metadata": {},
   "outputs": [
    {
     "name": "stdout",
     "output_type": "stream",
     "text": [
      "No of tweets fetched :  78\n"
     ]
    }
   ],
   "source": [
    "print('No of tweets fetched : ',len(public_tweets))"
   ]
  },
  {
   "cell_type": "code",
   "execution_count": 143,
   "metadata": {},
   "outputs": [
    {
     "name": "stdout",
     "output_type": "stream",
     "text": [
      "First id: 1275036969509126144\n",
      "Last id: 1272169580434083841\n"
     ]
    }
   ],
   "source": [
    "print('First id:',public_tweets[0].id)\n",
    "print('Last id:',public_tweets[-1].id)"
   ]
  },
  {
   "cell_type": "code",
   "execution_count": 144,
   "metadata": {},
   "outputs": [
    {
     "data": {
      "text/plain": [
       "78"
      ]
     },
     "execution_count": 144,
     "metadata": {},
     "output_type": "execute_result"
    }
   ],
   "source": [
    "## Extracting hashtags from the tweet\n",
    "\n",
    "all_hashtags=[]\n",
    "for i in range(len(public_tweets)):\n",
    "    h=len(public_tweets[i].entities['hashtags'])\n",
    "    hashtags=''\n",
    "    for k in range(h):    \n",
    "        hashtags+=public_tweets[i].entities['hashtags'][k]['text']+' '\n",
    "    all_hashtags.append(hashtags)\n",
    "\n",
    "len(all_hashtags)"
   ]
  },
  {
   "cell_type": "code",
   "execution_count": 145,
   "metadata": {},
   "outputs": [],
   "source": [
    "## Extracting tweet & its metadata from json object sequentially\n",
    "tweet_id=[]\n",
    "tweets=[]\n",
    "sentiment_polarity=[]\n",
    "sentiment_subjectivity=[]\n",
    "user_name=[]\n",
    "user_loc=[]\n",
    "created=[]\n",
    "retweet_count=[]\n",
    "followers_count=[]\n",
    "verified=[]\n",
    "favorite_count=[]\n",
    "\n",
    "for i,tweet in enumerate(public_tweets):\n",
    "    tweets.append(tweet.text)\n",
    "    created.append(public_tweets[i].created_at)\n",
    "    retweet_count.append(public_tweets[i].retweet_count)\n",
    "    user_name.append(public_tweets[i].user.name)\n",
    "    user_loc.append(public_tweets[i].user.location)\n",
    "    followers_count.append(public_tweets[i].user.followers_count)\n",
    "    verified.append(public_tweets[i].user.verified)\n",
    "    favorite_count.append(public_tweets[i].favorite_count)\n",
    "    tweet_id.append(public_tweets[i].id)\n",
    "    \n",
    "    analysis = TextBlob(tweet.text)\n",
    "    sentiment_polarity.append(analysis.sentiment[0])\n",
    "    sentiment_subjectivity.append(analysis.sentiment[1])"
   ]
  },
  {
   "cell_type": "code",
   "execution_count": 146,
   "metadata": {},
   "outputs": [],
   "source": [
    "## Filtering tweet, removing symbols \"RT\"(retweet),links,spaces from the tweet text\n",
    "\n",
    "filtered_tweet=[]\n",
    "for tw in tweets:\n",
    "    tw = re.sub(r\"http\\S+\", \"\", tw)\n",
    "    tw = re.sub(r\"RT\", \"\", tw)\n",
    "    tw = re.sub(searchpattern, \"\", tw)\n",
    "    filtered_tweet.append(tw.strip())\n",
    "    \n",
    "\n",
    "## Combining all data into one Dataframe\n",
    "tweets=pd.DataFrame(list(zip(tweet_id,filtered_tweet,created,all_hashtags,retweet_count,favorite_count,user_name,user_loc,followers_count,verified,sentiment_polarity,sentiment_subjectivity)),\n",
    "                    columns=['tweet_id','tweet','created','hashtags','retweet_count','favorite_count','user_name','user_loc','followers_count','verified','polarity','subjectivity'])"
   ]
  },
  {
   "cell_type": "code",
   "execution_count": 147,
   "metadata": {},
   "outputs": [
    {
     "name": "stdout",
     "output_type": "stream",
     "text": [
      "(78, 12)\n",
      "(78, 12)\n"
     ]
    }
   ],
   "source": [
    "print(tweets.shape)\n",
    "print(tweets.drop_duplicates().shape)\n",
    "tweets=tweets.drop_duplicates()"
   ]
  },
  {
   "cell_type": "code",
   "execution_count": 148,
   "metadata": {},
   "outputs": [
    {
     "name": "stdout",
     "output_type": "stream",
     "text": [
      "<class 'pandas.core.frame.DataFrame'>\n",
      "Int64Index: 78 entries, 0 to 77\n",
      "Data columns (total 12 columns):\n",
      " #   Column           Non-Null Count  Dtype         \n",
      "---  ------           --------------  -----         \n",
      " 0   tweet_id         78 non-null     int64         \n",
      " 1   tweet            78 non-null     object        \n",
      " 2   created          78 non-null     datetime64[ns]\n",
      " 3   hashtags         78 non-null     object        \n",
      " 4   retweet_count    78 non-null     int64         \n",
      " 5   favorite_count   78 non-null     int64         \n",
      " 6   user_name        78 non-null     object        \n",
      " 7   user_loc         78 non-null     object        \n",
      " 8   followers_count  78 non-null     int64         \n",
      " 9   verified         78 non-null     bool          \n",
      " 10  polarity         78 non-null     float64       \n",
      " 11  subjectivity     78 non-null     float64       \n",
      "dtypes: bool(1), datetime64[ns](1), float64(2), int64(4), object(4)\n",
      "memory usage: 7.4+ KB\n"
     ]
    }
   ],
   "source": [
    "tweets.info()"
   ]
  },
  {
   "cell_type": "code",
   "execution_count": 149,
   "metadata": {},
   "outputs": [],
   "source": [
    "tweets['date']=tweets['created'].apply(lambda dt : datetime.strftime(dt,format='%d-%m-%y'))"
   ]
  },
  {
   "cell_type": "code",
   "execution_count": 150,
   "metadata": {},
   "outputs": [],
   "source": [
    "# We are more interested in analysing negative tweets, so modifying target as per se\n",
    "tweets['sentiment']=tweets['polarity'].apply(lambda x : 1 if x<0 else 0)"
   ]
  },
  {
   "cell_type": "code",
   "execution_count": 151,
   "metadata": {},
   "outputs": [
    {
     "data": {
      "text/plain": [
       "array(['22-06-20', '21-06-20', '20-06-20', '19-06-20', '18-06-20',\n",
       "       '17-06-20', '16-06-20', '15-06-20', '14-06-20'], dtype=object)"
      ]
     },
     "execution_count": 151,
     "metadata": {},
     "output_type": "execute_result"
    }
   ],
   "source": [
    "tweets['date'].unique()\n",
    "# So we have last 9 days data as limited by twitter's standard search API"
   ]
  },
  {
   "cell_type": "code",
   "execution_count": 152,
   "metadata": {},
   "outputs": [],
   "source": [
    "tweets['verified']=tweets['verified'].apply(lambda x : 1 if x==True else 0)"
   ]
  },
  {
   "cell_type": "code",
   "execution_count": 153,
   "metadata": {},
   "outputs": [
    {
     "data": {
      "text/html": [
       "<div>\n",
       "<style scoped>\n",
       "    .dataframe tbody tr th:only-of-type {\n",
       "        vertical-align: middle;\n",
       "    }\n",
       "\n",
       "    .dataframe tbody tr th {\n",
       "        vertical-align: top;\n",
       "    }\n",
       "\n",
       "    .dataframe thead th {\n",
       "        text-align: right;\n",
       "    }\n",
       "</style>\n",
       "<table border=\"1\" class=\"dataframe\">\n",
       "  <thead>\n",
       "    <tr style=\"text-align: right;\">\n",
       "      <th></th>\n",
       "      <th>tweet_id</th>\n",
       "      <th>tweet</th>\n",
       "      <th>created</th>\n",
       "      <th>hashtags</th>\n",
       "      <th>retweet_count</th>\n",
       "      <th>favorite_count</th>\n",
       "      <th>user_name</th>\n",
       "      <th>user_loc</th>\n",
       "      <th>followers_count</th>\n",
       "      <th>verified</th>\n",
       "      <th>polarity</th>\n",
       "      <th>subjectivity</th>\n",
       "      <th>date</th>\n",
       "      <th>sentiment</th>\n",
       "    </tr>\n",
       "  </thead>\n",
       "  <tbody>\n",
       "    <tr>\n",
       "      <th>0</th>\n",
       "      <td>1275036969509126144</td>\n",
       "      <td>@anshuman_68 @goair @indigo @EaseMyTrip @jehwa...</td>\n",
       "      <td>2020-06-22 12:04:37</td>\n",
       "      <td></td>\n",
       "      <td>0</td>\n",
       "      <td>0</td>\n",
       "      <td>Nishant Pitti</td>\n",
       "      <td>Delhi</td>\n",
       "      <td>1534</td>\n",
       "      <td>0</td>\n",
       "      <td>0.000</td>\n",
       "      <td>0.000000</td>\n",
       "      <td>22-06-20</td>\n",
       "      <td>0</td>\n",
       "    </tr>\n",
       "    <tr>\n",
       "      <th>3</th>\n",
       "      <td>1275004943678742529</td>\n",
       "      <td>@SweekrutiRath: @PaytmTravel @indigo Due to me...</td>\n",
       "      <td>2020-06-22 09:57:21</td>\n",
       "      <td></td>\n",
       "      <td>1</td>\n",
       "      <td>0</td>\n",
       "      <td>Sophia</td>\n",
       "      <td></td>\n",
       "      <td>37</td>\n",
       "      <td>0</td>\n",
       "      <td>0.075</td>\n",
       "      <td>0.308333</td>\n",
       "      <td>22-06-20</td>\n",
       "      <td>0</td>\n",
       "    </tr>\n",
       "  </tbody>\n",
       "</table>\n",
       "</div>"
      ],
      "text/plain": [
       "              tweet_id                                              tweet  \\\n",
       "0  1275036969509126144  @anshuman_68 @goair @indigo @EaseMyTrip @jehwa...   \n",
       "3  1275004943678742529  @SweekrutiRath: @PaytmTravel @indigo Due to me...   \n",
       "\n",
       "              created hashtags  retweet_count  favorite_count      user_name  \\\n",
       "0 2020-06-22 12:04:37                       0               0  Nishant Pitti   \n",
       "3 2020-06-22 09:57:21                       1               0         Sophia   \n",
       "\n",
       "  user_loc  followers_count  verified  polarity  subjectivity      date  \\\n",
       "0    Delhi             1534         0     0.000      0.000000  22-06-20   \n",
       "3                        37         0     0.075      0.308333  22-06-20   \n",
       "\n",
       "   sentiment  \n",
       "0          0  \n",
       "3          0  "
      ]
     },
     "execution_count": 153,
     "metadata": {},
     "output_type": "execute_result"
    }
   ],
   "source": [
    "pd.options.display.max_colwidth = 50\n",
    "tweets[tweets['sentiment']==0].head(2)"
   ]
  },
  {
   "cell_type": "code",
   "execution_count": 253,
   "metadata": {},
   "outputs": [
    {
     "data": {
      "text/plain": [
       "array(['Delhi', 'Canberra, ACT', '', 'Mumbai', 'Hyderabad, India',\n",
       "       'Calcutta, India', 'Daranga', 'Chennai, India', 'Gurgaon',\n",
       "       'Mumbai, India', 'Noida, India', 'dms are closed ', 'Detroit, MI',\n",
       "       'Here, There, and Everywhere', 'Ottawa Ontario', 'Canada',\n",
       "       'Waterloo, Ontario', 'Qatar', 'Hogwarts', 'Redondo Beach, CA',\n",
       "       'Los Angeles, CA', 'भारत', 'India', 'Dubai, United Arab Emirates',\n",
       "       'Earth.   ', 'Toronto, ON', 'Toronto', 'New Delhi, India',\n",
       "       'Stockholm, Sweden', 'Bangalore', 'Alwar', 'Bengaluru',\n",
       "       'Delta, BC, Canada', 'Gurgaon, India', 'Lucknow', 'Nagpur',\n",
       "       'Orlando, FL', 'Bengaluru, India', 'Doha Qatar', 'Global Citizen'],\n",
       "      dtype=object)"
      ]
     },
     "execution_count": 253,
     "metadata": {},
     "output_type": "execute_result"
    }
   ],
   "source": [
    "tweets.user_loc.unique()"
   ]
  },
  {
   "cell_type": "code",
   "execution_count": 154,
   "metadata": {},
   "outputs": [
    {
     "name": "stdout",
     "output_type": "stream",
     "text": [
      "date\n",
      "14-06-20     2\n",
      "15-06-20     4\n",
      "16-06-20     8\n",
      "17-06-20    18\n",
      "18-06-20    16\n",
      "19-06-20     8\n",
      "20-06-20     7\n",
      "21-06-20     3\n",
      "22-06-20    12\n",
      "Name: tweet_id, dtype: int64\n"
     ]
    }
   ],
   "source": [
    "# Lets tweet count as per date in last 9 days\n",
    "print(tweets.groupby(by='date')['tweet_id'].agg('count'))"
   ]
  },
  {
   "cell_type": "code",
   "execution_count": 155,
   "metadata": {},
   "outputs": [
    {
     "name": "stdout",
     "output_type": "stream",
     "text": [
      "Tweets per day\n"
     ]
    },
    {
     "data": {
      "image/png": "[encoded data removed]",
      "text/plain": [
       "<Figure size 720x432 with 1 Axes>"
      ]
     },
     "metadata": {
      "needs_background": "light"
     },
     "output_type": "display_data"
    }
   ],
   "source": [
    "plt.figure(figsize=(10,6))\n",
    "print(\"Tweets per day\")\n",
    "ax=sns.countplot(tweets['date'])"
   ]
  },
  {
   "cell_type": "code",
   "execution_count": 252,
   "metadata": {},
   "outputs": [
    {
     "data": {
      "image/png": "[encoded data removed]",
      "text/plain": [
       "<Figure size 720x432 with 1 Axes>"
      ]
     },
     "metadata": {
      "needs_background": "light"
     },
     "output_type": "display_data"
    }
   ],
   "source": [
    "#Checking sentiment on day to day basis\n",
    "plt.figure(figsize=(10,6))\n",
    "\n",
    "daywise=pd.DataFrame(tweets[['date','sentiment','polarity']].groupby(['date','sentiment']).agg('count').reset_index())\n",
    "daywise['date']=pd.to_datetime(daywise['date'])\n",
    "daywise_neg=daywise[daywise['sentiment']==1][['date','polarity']]\n",
    "daywise_pos=daywise[daywise['sentiment']==0][['date','polarity']]\n",
    "\n",
    "plt.plot(daywise_pos['date'],daywise_pos['polarity'],'g')\n",
    "plt.legend(['Daywise sentiment on topic'])\n",
    "\n",
    "plt.plot(daywise_neg['date'],daywise_neg['polarity'],'r')\n",
    "\n",
    "plt.xlabel('dates')\n",
    "plt.ylabel('polarity')\n",
    "\n",
    "plt.tight_layout()"
   ]
  },
  {
   "cell_type": "code",
   "execution_count": 122,
   "metadata": {},
   "outputs": [
    {
     "data": {
      "text/plain": [
       "64                        I found the statement of #GauravTaneja, pilot of #indigo, very pathetic situation of @indigo, the airline that play…\n",
       "65    how to use #Goibibo credit shell ...need urgently... unable to use Goibibo credit...\\n@goibibo @goibibo_tech @HMOIndia @IndiGo6E @indigo\n",
       "Name: tweet, dtype: object"
      ]
     },
     "execution_count": 122,
     "metadata": {},
     "output_type": "execute_result"
    }
   ],
   "source": [
    "# lets see some negative tweets for a day that have high retweet count \n",
    "pd.options.display.max_colwidth = 200\n",
    "tweets[(tweets['date']=='16-06-20') & (tweets['sentiment']==1) ].sort_values(by='retweet_count',ascending=False)['tweet']"
   ]
  },
  {
   "cell_type": "code",
   "execution_count": 114,
   "metadata": {},
   "outputs": [
    {
     "data": {
      "text/plain": [
       "<matplotlib.axes._subplots.AxesSubplot at 0x1a53d07f400>"
      ]
     },
     "execution_count": 114,
     "metadata": {},
     "output_type": "execute_result"
    },
    {
     "data": {
      "image/png": "[encoded data removed]",
      "text/plain": [
       "<Figure size 720x432 with 2 Axes>"
      ]
     },
     "metadata": {
      "needs_background": "light"
     },
     "output_type": "display_data"
    }
   ],
   "source": [
    "#Check for correlation\n",
    "plt.figure(figsize=(10,6))\n",
    "sns.heatmap(tweets.corr())"
   ]
  },
  {
   "cell_type": "code",
   "execution_count": 115,
   "metadata": {},
   "outputs": [
    {
     "name": "stdout",
     "output_type": "stream",
     "text": [
      "Positive tweets: 61\n",
      "Negative tweets: 18\n",
      ":)\n"
     ]
    }
   ],
   "source": [
    "# User with most followers , what are they saying??\n",
    "\n",
    "retweet_data=tweets.sort_values(by='followers_count',ascending=False)\n",
    "mood = retweet_data.groupby('sentiment').agg('count')['tweet']\n",
    "\n",
    "print('Positive tweets:',mood[0])\n",
    "print('Negative tweets:',mood[1])\n",
    "\n",
    "# So overall Positive sentiment on twitter\n",
    "if mood[0]>mood[1]:\n",
    "    print(\":)\")\n",
    "else:\n",
    "    print(\":(\")"
   ]
  },
  {
   "cell_type": "code",
   "execution_count": 124,
   "metadata": {},
   "outputs": [
    {
     "name": "stdout",
     "output_type": "stream",
     "text": [
      "Hashtag with most tweet: fearlesswomen \n"
     ]
    },
    {
     "data": {
      "image/png": "[encoded data removed]",
      "text/plain": [
       "<Figure size 432x432 with 1 Axes>"
      ]
     },
     "metadata": {
      "needs_background": "light"
     },
     "output_type": "display_data"
    }
   ],
   "source": [
    "##  hashtags that have most retweets and trending, any +ve or -ve\n",
    "\n",
    "tweets=tweets[tweets['hashtags']!='']\n",
    "print('Hashtag with most tweet:',tweets.iloc[tweets['retweet_count'].max()]['hashtags'])\n",
    "\n",
    "from wordcloud import WordCloud, STOPWORDS\n",
    "stopwords = set(STOPWORDS) \n",
    "wordcloud = WordCloud(width = 400, height = 400, \n",
    "                background_color ='white', \n",
    "                stopwords = stopwords, \n",
    "                min_font_size = 5).generate(str(tweets['hashtags'].values))\n",
    "\n",
    "# plot the WordCloud image                        \n",
    "plt.figure(figsize = (6, 6), facecolor = None) \n",
    "plt.imshow(wordcloud) \n",
    "plt.axis(\"off\") \n",
    "plt.tight_layout(pad = 0)\n",
    "plt.show() "
   ]
  },
  {
   "cell_type": "code",
   "execution_count": 138,
   "metadata": {},
   "outputs": [
    {
     "name": "stdout",
     "output_type": "stream",
     "text": [
      "Hashtag with most Negative tweet: GauravTaneja indigo \n"
     ]
    },
    {
     "data": {
      "image/png": "[encoded data removed]",
      "text/plain": [
       "<Figure size 360x432 with 1 Axes>"
      ]
     },
     "metadata": {
      "needs_background": "light"
     },
     "output_type": "display_data"
    }
   ],
   "source": [
    "neg=tweets[tweets['sentiment']==1]\n",
    "neg=neg[neg['hashtags']!='']\n",
    "print('Hashtag with most Negative tweet:',neg.iloc[neg['retweet_count'].max()]['hashtags'])\n",
    "\n",
    "wordcloud = WordCloud(width = 200, height = 200, \n",
    "                background_color ='white', \n",
    "                stopwords = stopwords, \n",
    "                min_font_size = 5).generate(str(neg['hashtags'].values))\n",
    "\n",
    "# plot the WordCloud image                        \n",
    "plt.figure(figsize = (5, 6), facecolor = None) \n",
    "plt.imshow(wordcloud) \n",
    "plt.axis(\"off\") \n",
    "plt.tight_layout(pad = 0)\n",
    "plt.show() "
   ]
  },
  {
   "cell_type": "code",
   "execution_count": 139,
   "metadata": {},
   "outputs": [
    {
     "name": "stdout",
     "output_type": "stream",
     "text": [
      "Hashtag with most Positive tweet: fearlesswomen \n"
     ]
    },
    {
     "data": {
      "image/png": "[encoded data removed]",
      "text/plain": [
       "<Figure size 360x360 with 1 Axes>"
      ]
     },
     "metadata": {
      "needs_background": "light"
     },
     "output_type": "display_data"
    }
   ],
   "source": [
    "neg=tweets[tweets['sentiment']==0]\n",
    "neg=neg[neg['hashtags']!='']\n",
    "print('Hashtag with most Positive tweet:',neg.iloc[neg['retweet_count'].max()]['hashtags'])\n",
    "\n",
    "wordcloud = WordCloud(width = 200, height = 200, \n",
    "                background_color ='white', \n",
    "                stopwords = stopwords, \n",
    "                min_font_size = 5).generate(str(neg['hashtags'].values))\n",
    "\n",
    "# plot the WordCloud image                        \n",
    "plt.figure(figsize = (5, 5), facecolor = None) \n",
    "plt.imshow(wordcloud) \n",
    "plt.axis(\"off\") \n",
    "plt.tight_layout(pad = 0)\n",
    "plt.show() "
   ]
  },
  {
   "cell_type": "markdown",
   "metadata": {},
   "source": [
    "References\n",
    "\n",
    " https://developer.twitter.com/en/docs/tweets/search/guides/standard-operators \n",
    " \n",
    " https://www.kaggle.com/crowdflower/twitter-airline-sentiment/kernels\n",
    " \n",
    " https://bhaskarvk.github.io/2015/01/how-to-use-twitters-search-rest-api-most-effectively./\n",
    "\n",
    "\n",
    "Twitter official docs\n",
    "\n",
    " https://developer.twitter.com/en/docs/tweets/search/guides/standard-operators\n",
    " \n",
    " https://developer.twitter.com/en/docs/basics/rate-limiting\n",
    "\n",
    "Twitter key generation(after creating twitter dev account)\n",
    "\n",
    " https://developer.twitter.com/en/apps/\n"
   ]
  },
  {
   "cell_type": "code",
   "execution_count": null,
   "metadata": {},
   "outputs": [],
   "source": []
  }
 ],
 "metadata": {
  "kernelspec": {
   "display_name": "Python 3",
   "language": "python",
   "name": "python3"
  },
  "language_info": {
   "codemirror_mode": {
    "name": "ipython",
    "version": 3
   },
   "file_extension": ".py",
   "mimetype": "text/x-python",
   "name": "python",
   "nbconvert_exporter": "python",
   "pygments_lexer": "ipython3",
   "version": "3.7.3"
  }
 },
 "nbformat": 4,
 "nbformat_minor": 2
}
